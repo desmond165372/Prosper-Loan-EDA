{
 "cells": [
  {
   "cell_type": "markdown",
   "id": "8ce222b7",
   "metadata": {},
   "source": [
    "# Prosper Loan Data Exploration"
   ]
  },
  {
   "cell_type": "markdown",
   "id": "88067675",
   "metadata": {},
   "source": [
    "## Dataset\n",
    "\n",
    "> The Prosper loan dataset consists of 113937 loan entries with 81 features for each loan spanning the years 2009 to 2014, including loan amount, borrower rate (or interest rate), current loan status, borrower income, and many others. The dataset can be found [here](https://www.google.com/url?q=https://s3.amazonaws.com/udacity-hosted-downloads/ud651/prosperLoanData.csv&sa=D&ust=1581581520570000)."
   ]
  },
  {
   "cell_type": "markdown",
   "id": "3eb77ba7",
   "metadata": {},
   "source": [
    "\n",
    "## Summary of Findings"
   ]
  },
  {
   "cell_type": "markdown",
   "id": "35363c8b",
   "metadata": {},
   "source": [
    "In my Prosper loan data exploratiion, I found out that there was a strong negative correlation between the prosper score and the borrower APR in the sense that as one increases, it led to the decrease of the other.\n",
    "\n",
    "I also discovered that the lender yield has a strong positive correlationm with the borrower APR, that is the lender gains more as the borrower APR increases.\n",
    "\n",
    "Outside my main features(prosper score and borrower APR), i also investigated the relationship between the length of the loan(term), the prosper score, borrower APR, the employment status and the loan status and came up with the following findings;\n",
    "1. The higher the loan length, the higher the prosper ratings.\n",
    "2. Loans that have past the due date attracts higher borrower ratings especially for the unemployed and i suggested that borrower should endeavour to pay up before the due dates."
   ]
  },
  {
   "cell_type": "markdown",
   "id": "6f08ca3b",
   "metadata": {},
   "source": [
    "## Key Insights for Presentation"
   ]
  },
  {
   "cell_type": "markdown",
   "id": "daff8921",
   "metadata": {},
   "source": [
    "I focused on my main features of interest which are the prosper loans annd the borrower APR. I started by presenting the prosper score, prosper rating, borrower annual percentage rate and the borrower rating in a histogram to show its distribution.\n",
    "\n",
    "Also, I showed the relationship between the prosper score and the borrower rating and compare the two with other categorical features. I used the bar plot together with the pair grid to show the correlation between the prosper score, prosper rating, borrower annual percentage rating and the borrower rate.\n",
    "\n",
    "In addition, i used the box plot together with the pair grid to show how the monthly loan payment and the stated monthly income affects the prosper score and i also used the violin plots to show how the employment status has impact on the borrower APR"
   ]
  },
  {
   "cell_type": "code",
   "execution_count": null,
   "id": "0927fa88",
   "metadata": {},
   "outputs": [],
   "source": []
  }
 ],
 "metadata": {
  "kernelspec": {
   "display_name": "Python 3 (ipykernel)",
   "language": "python",
   "name": "python3"
  },
  "language_info": {
   "codemirror_mode": {
    "name": "ipython",
    "version": 3
   },
   "file_extension": ".py",
   "mimetype": "text/x-python",
   "name": "python",
   "nbconvert_exporter": "python",
   "pygments_lexer": "ipython3",
   "version": "3.9.13"
  }
 },
 "nbformat": 4,
 "nbformat_minor": 5
}
